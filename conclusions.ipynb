{
 "cells": [
  {
   "cell_type": "code",
   "execution_count": 1,
   "metadata": {},
   "outputs": [
    {
     "name": "stdout",
     "output_type": "stream",
     "text": [
      "\n",
      "Overall churn rate: 0.20\n",
      "\n",
      "Churn by Subscription Type:\n",
      "subscription_type\n",
      "Basic      0.193159\n",
      "Premium    0.196819\n",
      "Name: churned, dtype: float64\n",
      "\n",
      "Churn by Gender:\n",
      "gender\n",
      "Female    0.207843\n",
      "Male      0.181633\n",
      "Name: churned, dtype: float64\n",
      "\n",
      "Average Age of Churned Customers: 41.36 years\n",
      "\n",
      "Recommendations to reduce churn:\n",
      "- Implement targeted retention campaigns for customers in [high-churn subscription type].\n",
      "- Consider offering personalized discounts or upgrades to customers who [exhibit high-churn behavior].\n",
      "- Investigate the reasons why [specific customer segments are churning more frequently].\n"
     ]
    }
   ],
   "source": [
    "import pandas as pd\n",
    "import matplotlib.pyplot as plt\n",
    "import seaborn as sns\n",
    "\n",
    "def draw_conclusions(churn_df):\n",
    "    \"\"\"Analyzes the churn data and draws conclusions and recommendations.\"\"\"\n",
    "    if churn_df is None:\n",
    "        print(\"Error: No data to analyze. Ensure data cleaning was successful.\")\n",
    "        return\n",
    "\n",
    "    try:\n",
    "        # Calculate overall churn rate\n",
    "        churn_rate = churn_df['churned'].mean()\n",
    "        print(f\"\\nOverall churn rate: {churn_rate:.2f}\")\n",
    "\n",
    "        #Churn by Subscription\n",
    "        churn_by_subscription = churn_df.groupby('subscription_type')['churned'].mean()\n",
    "        print(f\"\\nChurn by Subscription Type:\\n{churn_by_subscription}\")\n",
    "\n",
    "        #Gender and Churn Rate\n",
    "        churn_by_gender = churn_df.groupby('gender')['churned'].mean()\n",
    "        print(f\"\\nChurn by Gender:\\n{churn_by_gender}\")\n",
    "\n",
    "        #Average age of churned customers\n",
    "        churned_customers = churn_df[churn_df['churned']==1]\n",
    "        average_age = churned_customers['age'].mean()\n",
    "        print(f\"\\nAverage Age of Churned Customers: {average_age:.2f} years\")\n",
    "\n",
    "        # Add more analysis as needed\n",
    "\n",
    "        print(\"\\nRecommendations to reduce churn:\")\n",
    "        print(\"- Implement targeted retention campaigns for customers in [high-churn subscription type].\")\n",
    "        print(\"- Consider offering personalized discounts or upgrades to customers who [exhibit high-churn behavior].\")\n",
    "        print(\"- Investigate the reasons why [specific customer segments are churning more frequently].\")\n",
    "\n",
    "    except Exception as e:\n",
    "        print(f\"An error occurred during analysis: {e}\")\n",
    "\n",
    "churn_df = pd.read_csv(\"customer_data.csv\") #setting\n",
    "draw_conclusions(churn_df)"
   ]
  }
 ],
 "metadata": {
  "kernelspec": {
   "display_name": "Python 3",
   "language": "python",
   "name": "python3"
  },
  "language_info": {
   "codemirror_mode": {
    "name": "ipython",
    "version": 3
   },
   "file_extension": ".py",
   "mimetype": "text/x-python",
   "name": "python",
   "nbconvert_exporter": "python",
   "pygments_lexer": "ipython3",
   "version": "3.12.6"
  }
 },
 "nbformat": 4,
 "nbformat_minor": 2
}
