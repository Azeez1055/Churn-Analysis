{
 "cells": [
  {
   "cell_type": "code",
   "execution_count": 1,
   "metadata": {},
   "outputs": [
    {
     "name": "stdout",
     "output_type": "stream",
     "text": [
      "Data cleaning complete.  First 5 rows:\n",
      "   customer_id date_joined  age  gender subscription_type  monthly_charges  \\\n",
      "0            1  2023-04-13   60    Male           Premium               37   \n",
      "1            2  2023-12-15   20    Male           Premium               55   \n",
      "2            3  2023-09-28   50  Female             Basic               64   \n",
      "3            4  2023-04-17   23  Female           Premium               92   \n",
      "4            5  2023-03-13   27  Female             Basic               72   \n",
      "\n",
      "   churned  \n",
      "0        0  \n",
      "1        1  \n",
      "2        0  \n",
      "3        0  \n",
      "4        1  \n",
      "\n",
      "Data Types\n",
      "customer_id                   int64\n",
      "date_joined          datetime64[ns]\n",
      "age                           int64\n",
      "gender                       object\n",
      "subscription_type            object\n",
      "monthly_charges               int64\n",
      "churned                       int64\n",
      "dtype: object\n"
     ]
    }
   ],
   "source": [
    "import pandas as pd\n",
    "\n",
    "def clean_data(csv_file=\"customer_data.csv\"):\n",
    "    \"\"\"Loads, cleans, and prepares the customer data for analysis.\"\"\"\n",
    "    try:\n",
    "        churn_df = pd.read_csv(csv_file)\n",
    "\n",
    "        # Handle missing values (if any) - example: fill with mean\n",
    "        #churn_df['age'].fillna(churn_df['age'].mean(), inplace=True)\n",
    "\n",
    "        # Convert date_joined to datetime\n",
    "        churn_df['date_joined'] = pd.to_datetime(churn_df['date_joined'])\n",
    "\n",
    "        # Print some info\n",
    "        print(\"Data cleaning complete.  First 5 rows:\")\n",
    "        print(churn_df.head())\n",
    "        print(\"\\nData Types\")\n",
    "        print(churn_df.dtypes)\n",
    "\n",
    "        return churn_df\n",
    "\n",
    "    except FileNotFoundError:\n",
    "        print(\"Error: customer_data.csv not found\")\n",
    "        return None\n",
    "    except Exception as e:\n",
    "        print(f\"An error occurred: {e}\")\n",
    "        return None\n",
    "\n",
    "churn_df = clean_data()  # Calling the function, and setting data to clean_df."
   ]
  }
 ],
 "metadata": {
  "kernelspec": {
   "display_name": "Python 3",
   "language": "python",
   "name": "python3"
  },
  "language_info": {
   "codemirror_mode": {
    "name": "ipython",
    "version": 3
   },
   "file_extension": ".py",
   "mimetype": "text/x-python",
   "name": "python",
   "nbconvert_exporter": "python",
   "pygments_lexer": "ipython3",
   "version": "3.12.6"
  }
 },
 "nbformat": 4,
 "nbformat_minor": 2
}
